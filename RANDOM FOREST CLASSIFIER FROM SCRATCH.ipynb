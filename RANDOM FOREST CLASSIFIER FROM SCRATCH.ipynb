{
 "cells": [
  {
   "cell_type": "markdown",
   "id": "b98e98d8",
   "metadata": {},
   "source": [
    "## Importing Libraries"
   ]
  },
  {
   "cell_type": "code",
   "execution_count": 1,
   "id": "9c55b92d",
   "metadata": {},
   "outputs": [],
   "source": [
    "import numpy as np\n",
    "from sklearn.tree import DecisionTreeClassifier"
   ]
  },
  {
   "cell_type": "code",
   "execution_count": 2,
   "id": "b731bba2",
   "metadata": {},
   "outputs": [],
   "source": [
    "class RandomForestClassifier:\n",
    "    def __init__(self, n_estimators = 100, max_depth = None, max_features=None):\n",
    "        self.n_estimators = n_estimators\n",
    "        self.max_depth = max_depth\n",
    "        self.max_features = max_features\n",
    "        self.estimators_ = []\n",
    "        \n",
    "    def fit(self, X, y):\n",
    "        n_samples, n_features = X.shape\n",
    "        max_features = self.max_features or int(np.sqrt(n_features))\n",
    "        \n",
    "        for _ in range(self.n_estimators):\n",
    "            # randomly select subset of features\n",
    "            feature_indices = np.random.choice(n_features, max_features, replace=False)\n",
    "            X_subset = X[:, feature_indices]\n",
    "            \n",
    "            # randomly sample data with replacement\n",
    "            sample_indices = np.random.choice(n_samples, n_samples, replace=True)\n",
    "            X_sampled = X_subset[sample_indices]\n",
    "            y_sampled = y[sample_indices]\n",
    "            \n",
    "            # train decision tree on sampled data\n",
    "            tree = DecisionTreeClassifier(max_depth=self.max_depth, max_features=max_features)\n",
    "            tree.fit(X_sampled, y_sampled)\n",
    "            self.estimators_.append((tree, feature_indices))\n",
    "            \n",
    "    def predict(self, X):\n",
    "        n_samples = X.shape[0]\n",
    "        y_pred = np.zeros((n_samples, len(self.estimators_)))\n",
    "        \n",
    "        for i, (tree, feature_indices) in enumerate(self.estimators_):\n",
    "            X_subset = X[:, feature_indices]\n",
    "            y_pred[:, i] = tree.predict(X_subset)\n",
    "            \n",
    "        # aggregate predictions across all trees\n",
    "        return np.mean(y_pred, axis=1) >= 0.5"
   ]
  },
  {
   "cell_type": "markdown",
   "id": "bb216855",
   "metadata": {},
   "source": [
    "## Testing on dummy dataset"
   ]
  },
  {
   "cell_type": "code",
   "execution_count": 3,
   "id": "c9a17287",
   "metadata": {},
   "outputs": [],
   "source": [
    "from sklearn.datasets import make_classification\n",
    "from sklearn.model_selection import train_test_split\n",
    "from sklearn.metrics import accuracy_score"
   ]
  },
  {
   "cell_type": "code",
   "execution_count": 4,
   "id": "c1eaa33b",
   "metadata": {},
   "outputs": [],
   "source": [
    "X, y = make_classification(n_samples=1000, n_features=10, n_classes=2, random_state=42)\n",
    "X_train, X_test, y_train, y_test = train_test_split(X, y, test_size=0.2, random_state=42)"
   ]
  },
  {
   "cell_type": "code",
   "execution_count": 5,
   "id": "487a40fe",
   "metadata": {},
   "outputs": [],
   "source": [
    "clf = RandomForestClassifier(n_estimators = 100, max_depth=10, max_features=5)"
   ]
  },
  {
   "cell_type": "code",
   "execution_count": 6,
   "id": "5ebc1a16",
   "metadata": {},
   "outputs": [],
   "source": [
    "clf.fit(X_train, y_train)"
   ]
  },
  {
   "cell_type": "code",
   "execution_count": 7,
   "id": "1de50350",
   "metadata": {},
   "outputs": [],
   "source": [
    "y_pred = clf.predict(X_test)"
   ]
  },
  {
   "cell_type": "code",
   "execution_count": 8,
   "id": "268c7e05",
   "metadata": {},
   "outputs": [],
   "source": [
    "accuracy = accuracy_score(y_test, y_pred)"
   ]
  },
  {
   "cell_type": "code",
   "execution_count": 9,
   "id": "cef345e6",
   "metadata": {},
   "outputs": [
    {
     "name": "stdout",
     "output_type": "stream",
     "text": [
      "Accuracy: 0.88\n"
     ]
    }
   ],
   "source": [
    "print(f'Accuracy: {accuracy:.2f}')"
   ]
  },
  {
   "cell_type": "code",
   "execution_count": 13,
   "id": "adf3e4df",
   "metadata": {},
   "outputs": [
    {
     "data": {
      "text/plain": [
       "array([[ 0.96479937, -0.06644898,  0.98676805, ..., -1.2101605 ,\n",
       "        -0.62807677,  1.22727382],\n",
       "       [-0.91651053, -0.56639459, -1.00861409, ..., -0.98453405,\n",
       "         0.36389642,  0.20947008],\n",
       "       [-0.10948373, -0.43277388, -0.4576493 , ..., -0.2463834 ,\n",
       "        -1.05814521, -0.29737608],\n",
       "       ...,\n",
       "       [ 1.67463306,  1.75493307,  1.58615382, ...,  0.69272276,\n",
       "        -1.50384972,  0.22526412],\n",
       "       [-0.77860873, -0.83568901, -0.19484228, ..., -0.49735437,\n",
       "         2.47213818,  0.86718741],\n",
       "       [ 0.24845351, -1.0034389 ,  0.36046013, ...,  0.77323999,\n",
       "         0.1857344 ,  1.41641179]])"
      ]
     },
     "execution_count": 13,
     "metadata": {},
     "output_type": "execute_result"
    }
   ],
   "source": [
    "X"
   ]
  },
  {
   "cell_type": "code",
   "execution_count": null,
   "id": "d7ce5b56",
   "metadata": {},
   "outputs": [],
   "source": []
  }
 ],
 "metadata": {
  "kernelspec": {
   "display_name": "Python 3 (ipykernel)",
   "language": "python",
   "name": "python3"
  },
  "language_info": {
   "codemirror_mode": {
    "name": "ipython",
    "version": 3
   },
   "file_extension": ".py",
   "mimetype": "text/x-python",
   "name": "python",
   "nbconvert_exporter": "python",
   "pygments_lexer": "ipython3",
   "version": "3.9.12"
  }
 },
 "nbformat": 4,
 "nbformat_minor": 5
}
